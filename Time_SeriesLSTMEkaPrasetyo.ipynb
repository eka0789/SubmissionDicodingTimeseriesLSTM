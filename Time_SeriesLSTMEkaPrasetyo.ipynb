{
  "nbformat": 4,
  "nbformat_minor": 0,
  "metadata": {
    "colab": {
      "name": "Time SeriesLSTMEkaPrasetyo.ipynb",
      "provenance": []
    },
    "kernelspec": {
      "name": "python3",
      "display_name": "Python 3"
    },
    "accelerator": "GPU"
  },
  "cells": [
    {
      "cell_type": "code",
      "metadata": {
        "id": "miKutbNSy6_M",
        "colab_type": "code",
        "colab": {
          "base_uri": "https://localhost:8080/",
          "height": 34
        },
        "outputId": "337114ec-d688-4dcb-8791-e32064cbf0d6"
      },
      "source": [
        "from google.colab import drive\n",
        "drive.mount('/content/gdrive')"
      ],
      "execution_count": 54,
      "outputs": [
        {
          "output_type": "stream",
          "text": [
            "Drive already mounted at /content/gdrive; to attempt to forcibly remount, call drive.mount(\"/content/gdrive\", force_remount=True).\n"
          ],
          "name": "stdout"
        }
      ]
    },
    {
      "cell_type": "code",
      "metadata": {
        "id": "w6fSN3M2z0qw",
        "colab_type": "code",
        "colab": {
          "base_uri": "https://localhost:8080/",
          "height": 197
        },
        "outputId": "fa0c1765-a605-4bb0-bbef-d77fb933c380"
      },
      "source": [
        "import pandas as pd\n",
        "import numpy as np\n",
        "from sklearn.model_selection import train_test_split\n",
        "import tensorflow as tf\n",
        "from keras.layers import Dense, LSTM\n",
        "import matplotlib.pyplot as plt\n",
        "df_Train = pd.read_csv('/content/gdrive/My Drive/Colab Notebooks/vgsales1.csv', sep=',') \n",
        "df_Train.head()"
      ],
      "execution_count": 55,
      "outputs": [
        {
          "output_type": "execute_result",
          "data": {
            "text/html": [
              "<div>\n",
              "<style scoped>\n",
              "    .dataframe tbody tr th:only-of-type {\n",
              "        vertical-align: middle;\n",
              "    }\n",
              "\n",
              "    .dataframe tbody tr th {\n",
              "        vertical-align: top;\n",
              "    }\n",
              "\n",
              "    .dataframe thead th {\n",
              "        text-align: right;\n",
              "    }\n",
              "</style>\n",
              "<table border=\"1\" class=\"dataframe\">\n",
              "  <thead>\n",
              "    <tr style=\"text-align: right;\">\n",
              "      <th></th>\n",
              "      <th>Rank</th>\n",
              "      <th>Name</th>\n",
              "      <th>Platform</th>\n",
              "      <th>Year</th>\n",
              "      <th>Global_Sales</th>\n",
              "    </tr>\n",
              "  </thead>\n",
              "  <tbody>\n",
              "    <tr>\n",
              "      <th>0</th>\n",
              "      <td>1</td>\n",
              "      <td>Wii Sports</td>\n",
              "      <td>Wii</td>\n",
              "      <td>2006</td>\n",
              "      <td>82.74</td>\n",
              "    </tr>\n",
              "    <tr>\n",
              "      <th>1</th>\n",
              "      <td>2</td>\n",
              "      <td>Super Mario Bros.</td>\n",
              "      <td>NES</td>\n",
              "      <td>1985</td>\n",
              "      <td>40.24</td>\n",
              "    </tr>\n",
              "    <tr>\n",
              "      <th>2</th>\n",
              "      <td>3</td>\n",
              "      <td>Mario Kart Wii</td>\n",
              "      <td>Wii</td>\n",
              "      <td>2008</td>\n",
              "      <td>35.82</td>\n",
              "    </tr>\n",
              "    <tr>\n",
              "      <th>3</th>\n",
              "      <td>4</td>\n",
              "      <td>Wii Sports Resort</td>\n",
              "      <td>Wii</td>\n",
              "      <td>2009</td>\n",
              "      <td>33.00</td>\n",
              "    </tr>\n",
              "    <tr>\n",
              "      <th>4</th>\n",
              "      <td>5</td>\n",
              "      <td>Pokemon Red/Pokemon Blue</td>\n",
              "      <td>GB</td>\n",
              "      <td>1996</td>\n",
              "      <td>31.37</td>\n",
              "    </tr>\n",
              "  </tbody>\n",
              "</table>\n",
              "</div>"
            ],
            "text/plain": [
              "   Rank                      Name Platform  Year  Global_Sales\n",
              "0     1                Wii Sports      Wii  2006         82.74\n",
              "1     2         Super Mario Bros.      NES  1985         40.24\n",
              "2     3            Mario Kart Wii      Wii  2008         35.82\n",
              "3     4         Wii Sports Resort      Wii  2009         33.00\n",
              "4     5  Pokemon Red/Pokemon Blue       GB  1996         31.37"
            ]
          },
          "metadata": {
            "tags": []
          },
          "execution_count": 55
        }
      ]
    },
    {
      "cell_type": "code",
      "metadata": {
        "id": "4PGMA5_RNgVB",
        "colab_type": "code",
        "colab": {
          "base_uri": "https://localhost:8080/",
          "height": 197
        },
        "outputId": "97e95387-4deb-443b-9a9b-43889af4bad1"
      },
      "source": [
        "df_Train.tail()"
      ],
      "execution_count": 56,
      "outputs": [
        {
          "output_type": "execute_result",
          "data": {
            "text/html": [
              "<div>\n",
              "<style scoped>\n",
              "    .dataframe tbody tr th:only-of-type {\n",
              "        vertical-align: middle;\n",
              "    }\n",
              "\n",
              "    .dataframe tbody tr th {\n",
              "        vertical-align: top;\n",
              "    }\n",
              "\n",
              "    .dataframe thead th {\n",
              "        text-align: right;\n",
              "    }\n",
              "</style>\n",
              "<table border=\"1\" class=\"dataframe\">\n",
              "  <thead>\n",
              "    <tr style=\"text-align: right;\">\n",
              "      <th></th>\n",
              "      <th>Rank</th>\n",
              "      <th>Name</th>\n",
              "      <th>Platform</th>\n",
              "      <th>Year</th>\n",
              "      <th>Global_Sales</th>\n",
              "    </tr>\n",
              "  </thead>\n",
              "  <tbody>\n",
              "    <tr>\n",
              "      <th>16593</th>\n",
              "      <td>16596</td>\n",
              "      <td>Woody Woodpecker in Crazy Castle 5</td>\n",
              "      <td>GBA</td>\n",
              "      <td>2002</td>\n",
              "      <td>0.01</td>\n",
              "    </tr>\n",
              "    <tr>\n",
              "      <th>16594</th>\n",
              "      <td>16597</td>\n",
              "      <td>Men in Black II: Alien Escape</td>\n",
              "      <td>GC</td>\n",
              "      <td>2003</td>\n",
              "      <td>0.01</td>\n",
              "    </tr>\n",
              "    <tr>\n",
              "      <th>16595</th>\n",
              "      <td>16598</td>\n",
              "      <td>SCORE International Baja 1000: The Official Game</td>\n",
              "      <td>PS2</td>\n",
              "      <td>2008</td>\n",
              "      <td>0.01</td>\n",
              "    </tr>\n",
              "    <tr>\n",
              "      <th>16596</th>\n",
              "      <td>16599</td>\n",
              "      <td>Know How 2</td>\n",
              "      <td>DS</td>\n",
              "      <td>2010</td>\n",
              "      <td>0.01</td>\n",
              "    </tr>\n",
              "    <tr>\n",
              "      <th>16597</th>\n",
              "      <td>16600</td>\n",
              "      <td>Spirits &amp; Spells</td>\n",
              "      <td>GBA</td>\n",
              "      <td>2003</td>\n",
              "      <td>0.01</td>\n",
              "    </tr>\n",
              "  </tbody>\n",
              "</table>\n",
              "</div>"
            ],
            "text/plain": [
              "        Rank  ... Global_Sales\n",
              "16593  16596  ...         0.01\n",
              "16594  16597  ...         0.01\n",
              "16595  16598  ...         0.01\n",
              "16596  16599  ...         0.01\n",
              "16597  16600  ...         0.01\n",
              "\n",
              "[5 rows x 5 columns]"
            ]
          },
          "metadata": {
            "tags": []
          },
          "execution_count": 56
        }
      ]
    },
    {
      "cell_type": "code",
      "metadata": {
        "id": "R3YfGzEE0f04",
        "colab_type": "code",
        "colab": {
          "base_uri": "https://localhost:8080/",
          "height": 123
        },
        "outputId": "44e05f20-8763-4e24-a948-b02eb9855eda"
      },
      "source": [
        "df_Train.isnull().sum()"
      ],
      "execution_count": 57,
      "outputs": [
        {
          "output_type": "execute_result",
          "data": {
            "text/plain": [
              "Rank            0\n",
              "Name            0\n",
              "Platform        0\n",
              "Year            0\n",
              "Global_Sales    0\n",
              "dtype: int64"
            ]
          },
          "metadata": {
            "tags": []
          },
          "execution_count": 57
        }
      ]
    },
    {
      "cell_type": "code",
      "metadata": {
        "id": "OabkMu_HeltD",
        "colab_type": "code",
        "colab": {
          "base_uri": "https://localhost:8080/",
          "height": 230
        },
        "outputId": "94695ade-ad78-4412-abff-0c190c60d141"
      },
      "source": [
        "df_Train.info()"
      ],
      "execution_count": 58,
      "outputs": [
        {
          "output_type": "stream",
          "text": [
            "<class 'pandas.core.frame.DataFrame'>\n",
            "RangeIndex: 16598 entries, 0 to 16597\n",
            "Data columns (total 5 columns):\n",
            " #   Column        Non-Null Count  Dtype  \n",
            "---  ------        --------------  -----  \n",
            " 0   Rank          16598 non-null  int64  \n",
            " 1   Name          16598 non-null  object \n",
            " 2   Platform      16598 non-null  object \n",
            " 3   Year          16598 non-null  int64  \n",
            " 4   Global_Sales  16598 non-null  float64\n",
            "dtypes: float64(1), int64(2), object(2)\n",
            "memory usage: 648.5+ KB\n"
          ],
          "name": "stdout"
        }
      ]
    },
    {
      "cell_type": "code",
      "metadata": {
        "id": "d6TtgNFI0ksw",
        "colab_type": "code",
        "colab": {}
      },
      "source": [
        "x = df_Train['Year'].values\n",
        "y = df_Train['Global_Sales'].values"
      ],
      "execution_count": 59,
      "outputs": []
    },
    {
      "cell_type": "code",
      "metadata": {
        "id": "gCeDoAXMnAhk",
        "colab_type": "code",
        "colab": {}
      },
      "source": [
        "x_train, x_test, y_train, y_test = train_test_split(x, y, test_size=0.2)"
      ],
      "execution_count": 60,
      "outputs": []
    },
    {
      "cell_type": "code",
      "metadata": {
        "id": "ye0O3_EZbNRy",
        "colab_type": "code",
        "colab": {
          "base_uri": "https://localhost:8080/",
          "height": 341
        },
        "outputId": "c002b63c-cfbe-4038-c8ea-e0c240c8b78e"
      },
      "source": [
        "plt.figure(figsize=(15,5))\n",
        "plt.plot(x_train, y_train)\n",
        "plt.title('Summary of Video Games Sales',\n",
        "          fontsize=20);"
      ],
      "execution_count": 61,
      "outputs": [
        {
          "output_type": "display_data",
          "data": {
            "image/png": "[encoded data removed]",
            "text/plain": [
              "<Figure size 1080x360 with 1 Axes>"
            ]
          },
          "metadata": {
            "tags": [],
            "needs_background": "light"
          }
        }
      ]
    },
    {
      "cell_type": "code",
      "metadata": {
        "id": "kGRzUdzNdPYB",
        "colab_type": "code",
        "colab": {}
      },
      "source": [
        "def plot_series(time, series, format=\"-\", start=0, end=None):\n",
        "    plt.plot(time[start:end], series[start:end], format)\n",
        "    plt.xlabel(\"Time\")\n",
        "    plt.ylabel(\"Total\")\n",
        "    plt.grid(True)"
      ],
      "execution_count": 62,
      "outputs": []
    },
    {
      "cell_type": "code",
      "metadata": {
        "id": "AJqeWBHldkls",
        "colab_type": "code",
        "colab": {
          "base_uri": "https://localhost:8080/",
          "height": 387
        },
        "outputId": "fe3b2e72-120c-42ad-9062-f76f1934ae5d"
      },
      "source": [
        "import csv\n",
        "time_step = []\n",
        "temps = []\n",
        "\n",
        "with open('/content/gdrive/My Drive/Colab Notebooks/vgsales1.csv') as csvfile:\n",
        "  reader = csv.reader(csvfile, delimiter=',')\n",
        "  next(reader)\n",
        "  step=0\n",
        "  for row in reader:\n",
        "    temps.append(float(row[4]))\n",
        "    time_step.append(step)\n",
        "    step = step + 1\n",
        "\n",
        "series = np.array(temps)\n",
        "time = np.array(time_step)\n",
        "plt.figure(figsize=(10, 6))\n",
        "plot_series(time, series)"
      ],
      "execution_count": 65,
      "outputs": [
        {
          "output_type": "display_data",
          "data": {
            "image/png": "[encoded data removed]",
            "text/plain": [
              "<Figure size 720x432 with 1 Axes>"
            ]
          },
          "metadata": {
            "tags": [],
            "needs_background": "light"
          }
        }
      ]
    },
    {
      "cell_type": "code",
      "metadata": {
        "id": "XfnD8xmSdtwT",
        "colab_type": "code",
        "colab": {}
      },
      "source": [
        "split_time = 2500\n",
        "time_train = time[:split_time]\n",
        "x_train = series[:split_time]\n",
        "time_valid = time[split_time:]\n",
        "x_valid = series[split_time:]\n",
        "\n",
        "window_size = 30\n",
        "batch_size = 32\n",
        "shuffle_buffer_size = 1000"
      ],
      "execution_count": 66,
      "outputs": []
    },
    {
      "cell_type": "code",
      "metadata": {
        "id": "J1pKIXu_a_Zr",
        "colab_type": "code",
        "colab": {}
      },
      "source": [
        "def windowed_dataset(series, window_size, batch_size, shuffle_buffer):\n",
        "    series = tf.expand_dims(series, axis=-1)\n",
        "    ds = tf.data.Dataset.from_tensor_slices(series)\n",
        "    ds = ds.window(window_size + 1, shift=1, drop_remainder=True)\n",
        "    ds = ds.flat_map(lambda w: w.batch(window_size + 1))\n",
        "    ds = ds.shuffle(shuffle_buffer)\n",
        "    ds = ds.map(lambda w: (w[:-1], w[1:]))\n",
        "    return ds.batch(batch_size).prefetch(1)"
      ],
      "execution_count": 67,
      "outputs": []
    },
    {
      "cell_type": "code",
      "metadata": {
        "id": "g_w2Q-uIKzdJ",
        "colab_type": "code",
        "colab": {}
      },
      "source": [
        "def model_forecast(model, series, window_size):\n",
        "    ds = tf.data.Dataset.from_tensor_slices(series)\n",
        "    ds = ds.window(window_size, shift=1, drop_remainder=True)\n",
        "    ds = ds.flat_map(lambda w: w.batch(window_size))\n",
        "    ds = ds.batch(32).prefetch(1)\n",
        "    forecast = model.predict(ds)\n",
        "    return forecast"
      ],
      "execution_count": 68,
      "outputs": []
    },
    {
      "cell_type": "code",
      "metadata": {
        "id": "G7EVZBM5K6Jf",
        "colab_type": "code",
        "colab": {
          "base_uri": "https://localhost:8080/",
          "height": 1000
        },
        "outputId": "4e28e0ff-81ec-46b5-c3d6-86a948c1ea62"
      },
      "source": [
        "tf.keras.backend.clear_session()\n",
        "tf.random.set_seed(51)\n",
        "np.random.seed(51)\n",
        "window_size = 64\n",
        "batch_size = 256\n",
        "train_set = windowed_dataset(x_train, window_size, batch_size, shuffle_buffer_size)\n",
        "print(train_set)\n",
        "print(x_train.shape)\n",
        "\n",
        "model = tf.keras.models.Sequential([\n",
        "  tf.keras.layers.Conv1D(filters=32, kernel_size=5,\n",
        "                      strides=1, padding=\"causal\",\n",
        "                      activation=\"relu\",\n",
        "                      input_shape=[None, 1]),\n",
        "  tf.keras.layers.LSTM(64, return_sequences=True),\n",
        "  tf.keras.layers.LSTM(64, return_sequences=True),\n",
        "  tf.keras.layers.Dense(30, activation=\"relu\"),\n",
        "  tf.keras.layers.Dense(10, activation=\"relu\"),\n",
        "  tf.keras.layers.Dense(1),\n",
        "  tf.keras.layers.Lambda(lambda x: x * 400)\n",
        "])\n",
        "\n",
        "lr_schedule = tf.keras.callbacks.LearningRateScheduler(\n",
        "    lambda epoch: 1e-8 * 10**(epoch / 20))\n",
        "optimizer = tf.keras.optimizers.SGD(lr=1e-8, momentum=0.9)\n",
        "model.compile(loss=tf.keras.losses.Huber(),\n",
        "              optimizer=optimizer,\n",
        "              metrics=[\"mae\"])\n",
        "history = model.fit(train_set, epochs=50, callbacks=[lr_schedule])"
      ],
      "execution_count": 70,
      "outputs": [
        {
          "output_type": "stream",
          "text": [
            "<PrefetchDataset shapes: ((None, None, 1), (None, None, 1)), types: (tf.float64, tf.float64)>\n",
            "(2500,)\n",
            "Epoch 1/50\n",
            "10/10 [==============================] - 0s 18ms/step - loss: 3.7131 - mae: 4.1866\n",
            "Epoch 2/50\n",
            "10/10 [==============================] - 0s 22ms/step - loss: 3.6540 - mae: 4.1254\n",
            "Epoch 3/50\n",
            "10/10 [==============================] - 0s 23ms/step - loss: 3.5715 - mae: 4.0393\n",
            "Epoch 4/50\n",
            "10/10 [==============================] - 0s 22ms/step - loss: 3.4835 - mae: 3.9478\n",
            "Epoch 5/50\n",
            "10/10 [==============================] - 0s 23ms/step - loss: 3.3957 - mae: 3.8587\n",
            "Epoch 6/50\n",
            "10/10 [==============================] - 0s 22ms/step - loss: 3.3158 - mae: 3.7783\n",
            "Epoch 7/50\n",
            "10/10 [==============================] - 0s 24ms/step - loss: 3.2463 - mae: 3.7057\n",
            "Epoch 8/50\n",
            "10/10 [==============================] - 0s 24ms/step - loss: 3.1907 - mae: 3.6450\n",
            "Epoch 9/50\n",
            "10/10 [==============================] - 0s 25ms/step - loss: 3.1444 - mae: 3.5917\n",
            "Epoch 10/50\n",
            "10/10 [==============================] - 0s 23ms/step - loss: 3.1018 - mae: 3.5422\n",
            "Epoch 11/50\n",
            "10/10 [==============================] - 0s 22ms/step - loss: 3.0555 - mae: 3.4909\n",
            "Epoch 12/50\n",
            "10/10 [==============================] - 0s 23ms/step - loss: 3.0048 - mae: 3.4380\n",
            "Epoch 13/50\n",
            "10/10 [==============================] - 0s 24ms/step - loss: 2.9434 - mae: 3.3755\n",
            "Epoch 14/50\n",
            "10/10 [==============================] - 0s 22ms/step - loss: 2.8759 - mae: 3.3069\n",
            "Epoch 15/50\n",
            "10/10 [==============================] - 0s 24ms/step - loss: 2.7968 - mae: 3.2234\n",
            "Epoch 16/50\n",
            "10/10 [==============================] - 0s 25ms/step - loss: 2.7123 - mae: 3.1340\n",
            "Epoch 17/50\n",
            "10/10 [==============================] - 0s 29ms/step - loss: 2.6206 - mae: 3.0383\n",
            "Epoch 18/50\n",
            "10/10 [==============================] - 0s 25ms/step - loss: 2.5189 - mae: 2.9325\n",
            "Epoch 19/50\n",
            "10/10 [==============================] - 0s 23ms/step - loss: 2.4086 - mae: 2.8182\n",
            "Epoch 20/50\n",
            "10/10 [==============================] - 0s 24ms/step - loss: 2.2834 - mae: 2.6860\n",
            "Epoch 21/50\n",
            "10/10 [==============================] - 0s 24ms/step - loss: 2.1635 - mae: 2.5593\n",
            "Epoch 22/50\n",
            "10/10 [==============================] - 0s 30ms/step - loss: 2.0383 - mae: 2.4257\n",
            "Epoch 23/50\n",
            "10/10 [==============================] - 0s 25ms/step - loss: 1.9175 - mae: 2.2996\n",
            "Epoch 24/50\n",
            "10/10 [==============================] - 0s 25ms/step - loss: 1.7833 - mae: 2.1563\n",
            "Epoch 25/50\n",
            "10/10 [==============================] - 0s 23ms/step - loss: 1.6555 - mae: 2.0254\n",
            "Epoch 26/50\n",
            "10/10 [==============================] - 0s 24ms/step - loss: 1.5204 - mae: 1.8909\n",
            "Epoch 27/50\n",
            "10/10 [==============================] - 0s 28ms/step - loss: 1.3867 - mae: 1.7578\n",
            "Epoch 28/50\n",
            "10/10 [==============================] - 0s 25ms/step - loss: 1.2587 - mae: 1.6357\n",
            "Epoch 29/50\n",
            "10/10 [==============================] - 0s 23ms/step - loss: 1.1463 - mae: 1.5285\n",
            "Epoch 30/50\n",
            "10/10 [==============================] - 0s 23ms/step - loss: 1.0417 - mae: 1.4293\n",
            "Epoch 31/50\n",
            "10/10 [==============================] - 0s 26ms/step - loss: 0.9539 - mae: 1.3452\n",
            "Epoch 32/50\n",
            "10/10 [==============================] - 0s 28ms/step - loss: 0.8708 - mae: 1.2655\n",
            "Epoch 33/50\n",
            "10/10 [==============================] - 0s 25ms/step - loss: 0.7913 - mae: 1.1857\n",
            "Epoch 34/50\n",
            "10/10 [==============================] - 0s 25ms/step - loss: 0.7082 - mae: 1.0998\n",
            "Epoch 35/50\n",
            "10/10 [==============================] - 0s 30ms/step - loss: 0.6683 - mae: 1.0600\n",
            "Epoch 36/50\n",
            "10/10 [==============================] - 0s 27ms/step - loss: 0.6435 - mae: 1.0299\n",
            "Epoch 37/50\n",
            "10/10 [==============================] - 0s 24ms/step - loss: 0.6183 - mae: 1.0035\n",
            "Epoch 38/50\n",
            "10/10 [==============================] - 0s 26ms/step - loss: 0.5921 - mae: 0.9736\n",
            "Epoch 39/50\n",
            "10/10 [==============================] - 0s 23ms/step - loss: 0.5766 - mae: 0.9565\n",
            "Epoch 40/50\n",
            "10/10 [==============================] - 0s 24ms/step - loss: 0.5698 - mae: 0.9485\n",
            "Epoch 41/50\n",
            "10/10 [==============================] - 0s 23ms/step - loss: 0.5437 - mae: 0.9186\n",
            "Epoch 42/50\n",
            "10/10 [==============================] - 0s 30ms/step - loss: 0.5664 - mae: 0.9498\n",
            "Epoch 43/50\n",
            "10/10 [==============================] - 0s 31ms/step - loss: 0.5231 - mae: 0.8979\n",
            "Epoch 44/50\n",
            "10/10 [==============================] - 0s 23ms/step - loss: 0.4249 - mae: 0.7806\n",
            "Epoch 45/50\n",
            "10/10 [==============================] - 0s 23ms/step - loss: 0.3125 - mae: 0.6398\n",
            "Epoch 46/50\n",
            "10/10 [==============================] - 0s 23ms/step - loss: 0.3099 - mae: 0.6294\n",
            "Epoch 47/50\n",
            "10/10 [==============================] - 0s 24ms/step - loss: 0.2703 - mae: 0.5785\n",
            "Epoch 48/50\n",
            "10/10 [==============================] - 0s 24ms/step - loss: 0.2534 - mae: 0.5541\n",
            "Epoch 49/50\n",
            "10/10 [==============================] - 0s 23ms/step - loss: 0.2462 - mae: 0.5442\n",
            "Epoch 50/50\n",
            "10/10 [==============================] - 0s 23ms/step - loss: 0.2430 - mae: 0.5386\n"
          ],
          "name": "stdout"
        }
      ]
    }
  ]
}